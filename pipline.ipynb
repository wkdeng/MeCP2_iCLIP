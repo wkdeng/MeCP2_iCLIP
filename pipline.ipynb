{
 "metadata": {
  "language_info": {
   "codemirror_mode": {
    "name": "ipython",
    "version": 3
   },
   "file_extension": ".py",
   "mimetype": "text/x-python",
   "name": "python",
   "nbconvert_exporter": "python",
   "pygments_lexer": "ipython3",
   "version": "3.7.6-final"
  },
  "orig_nbformat": 2,
  "kernelspec": {
   "name": "python3",
   "display_name": "Python 3"
  }
 },
 "nbformat": 4,
 "nbformat_minor": 2,
 "cells": [
  {
   "cell_type": "code",
   "execution_count": 35,
   "metadata": {},
   "outputs": [],
   "source": [
    "import subprocess\n",
    "import os\n",
    "script_folder='/home/dengw1/workspace/snakerun/MeCP2_iCLIP/scripts'\n",
    "data_folder='/home/dengw1/workspace/MeCP2_iCLIP2'\n",
    "genome_folder='/home/dengw1/workspace/genome'\n",
    "sub_folder='{script_folder}/qsub'.format(script_folder=script_folder)\n",
    "if not os.path.isdir(sub_folder):\n",
    "    os.makedirs(sub_folder)"
   ]
  },
  {
   "cell_type": "code",
   "execution_count": 26,
   "metadata": {},
   "outputs": [
    {
     "output_type": "stream",
     "name": "stdout",
     "text": [
      "b''\n",
      "b'Your job 18662923 (\"M1.sh\") has been submitted\\n'\n",
      "b'Your job 18662924 (\"M2.sh\") has been submitted\\n'\n",
      "b'Your job 18662925 (\"M3.sh\") has been submitted\\n'\n",
      "b'Your job 18662926 (\"H1.sh\") has been submitted\\n'\n",
      "b'Your job 18662927 (\"H2.sh\") has been submitted\\n'\n",
      "b'Your job 18662928 (\"H3.sh\") has been submitted\\n'\n"
     ]
    }
   ],
   "source": [
    "# Demultiplex\n",
    "dem='python {script_folder}/demultiplex_read1.py {data_folder}/raw_fq/Undetermined_S0_L003_R1_001.fastq {data_folder}/raw_fq'.format(script_folder=script_folder,data_folder=data_folder)\n",
    "print(subprocess.check_output(dem,shell=True))\n",
    "\n",
    "# Adapter triming, QC, STAR mapping & rRNA/tRNA masking\n",
    "cmd='''mkdir -p {data_folder}/cutadapt\n",
    "cutadapt -a AGATCGGAAGAGCGGTTCAG --quality-cutoff 6 -m 15 -o {data_folder}/cutadapt/{group}.fq {data_folder}/raw_fq/{group}.fq\n",
    "fastqc -o {data_folder}/cutadapt/ {data_folder}/cutadapt/{group}.fq\n",
    "mkdir -p {data_folder}/star/{group}/\n",
    "STAR --genomeDir {genome_folder}/star/{genome} \\\n",
    "--readFilesIn {data_folder}/cutadapt/{group}.fq  --outSAMtype BAM Unsorted \\\n",
    "--outFileNamePrefix {data_folder}/star/{group}/ \\\n",
    "--outFilterMultimapNmax 100 \\\n",
    "--runThreadN 20 \\\n",
    "--alignEndsProtrude 15 ConcordantPair \\\n",
    "--twopassMode Basic --limitOutSJcollapsed 2000000 \\\n",
    "--outStd Log > {data_folder}/star/{group}/log.txt 2>&1\n",
    "bedtools intersect -f 0.90 -abam {data_folder}/star/{group}/Aligned.out.bam -b {genome_folder}/raw/{genome}/rRNA_tRNA.bed -v > {data_folder}/star/{group}/Aligned.out.mask_rRNA.bam\n",
    "python {script_folder}/mapping_stat.py {data_folder}/star/{group}/Aligned.out.bam {data_folder}/cutadapt/{group}_fastqc.zip > {data_folder}/star/{group}/mapping_stat.txt\n",
    "'''\n",
    "for group in ['M1','M2','M3','H1','H2','H3']:\n",
    "    genome='hg19'\n",
    "    if group.startswith('M'):\n",
    "        genome='mm10'\n",
    "    cmd_f='%s/qsub/%s.sh'%(script_folder,group)\n",
    "    with open(cmd_f,'w') as cmd_file:\n",
    "        cmd_file.write(cmd.format(group=group,genome=genome,data_folder=data_folder,genome_folder=genome_folder))\n",
    "    print(subprocess.check_output('qsub -cwd -l h_vmem=40G,m_mem_free=40G %s'%cmd_f,shell=True))\n",
    "    "
   ]
  },
  {
   "cell_type": "code",
   "execution_count": null,
   "metadata": {},
   "outputs": [],
   "source": [
    "cmd='''python {script_folder}/collapse_dup.py -b {data_folder}/star/{group}/Aligned.out.mask_rRNA.bam -o {data_folder}/star/{group}/Aligned.out.mask_rRNA.collapsed_dup.bam -m {data_folder}/star/{group}/dup_removal.txt\n",
    "mkdir -p {data_folder}/clam/{group}\n",
    "CLAM preprocessor -i {data_folder}/star/{group}/Aligned.out.mask_rRNA.collapsed_dup.bam -o {data_folder}/clam/{group} --read-tagger-method start --lib-type sense'''\n",
    "for group in ['M1','M2','M3','H1','H2','H3']:\n",
    "    genome='hg19'\n",
    "    if group.startswith('M'):\n",
    "        genome='mm10'\n",
    "    cmd_f='%s/qsub/%s_dedup.sh'%(script_folder,group)\n",
    "    with open(cmd_f,'w') as cmd_file:\n",
    "        cmd_file.write(cmd.format(group=group,data_folder=data_folder,genome_folder=genome_folder,script_folder=script_folder))\n",
    "    print(group)\n",
    "    print(subprocess.check_output('qsub -cwd -l h_vmem=80G,m_mem_free=40G %s'%cmd_f,shell=True))"
   ]
  },
  {
   "cell_type": "code",
   "execution_count": null,
   "metadata": {},
   "outputs": [],
   "source": [
    "cmd='''genome={genome}\n",
    "\n",
    "mkdir -p {data_folder}/clam/{group}_{binw}\n",
    "mkdir -p {data_folder}/clam/peaks_{binw}/{group}\n",
    "mkdir -p {data_folder}/homer/{binw}/{group}\n",
    "\n",
    "CLAM realigner -i {data_folder}/clam/{group}/multi.sorted.bam -o {data_folder}/clam/{group}_{binw} --winsize {binw} --max-tags -1 --read-tagger-method start --lib-type sense\n",
    "\n",
    "echo 'realigned'\n",
    "CLAM peakcaller -i {data_folder}/clam/{group}/unique.sorted.bam {data_folder}/clam/{group}_{binw}/realigned.sorted.bam \\\n",
    "-o {data_folder}/clam/peaks_{binw}/{group}  --binsize {binw} --qval-cutoff 1 \\\n",
    "--gtf {genome_folder}/raw/{genome}/{genome}.gtf -p 20\n",
    "\n",
    "\n",
    "CLAM permutation_callpeak -i {data_folder}/clam/{group}/unique.sorted.bam {data_folder}/clam/{group}_{binw}/realigned.sorted.bam \\\n",
    "-o {data_folder}/clam/peaks_{binw}/{group} -p 30 \\\n",
    "--gtf {genome_folder}/raw/{genome}/{genome}.gtf --qval-cutoff 1 --merge-size {binw}\n",
    "\n",
    "mv {data_folder}/clam/peaks_{binw}/{group}/narrow_peak.permutation.bed {data_folder}/clam/peaks_{binw}/{group}/narrow_peak.permutation.bed.all\n",
    "awk '{{split($4,a,\":\");if(a[3]<=0.005){{print}}}}' {data_folder}/clam/peaks_{binw}/{group}/narrow_peak.permutation.bed.all > {data_folder}/clam/peaks_{binw}/{group}/narrow_peak.permutation.bed\n",
    "\n",
    "echo 'peak_called'\n",
    "findMotifsGenome.pl {data_folder}/clam/peaks_{binw}/{group}/narrow_peak.permutation.bed {genome} {data_folder}/homer/{binw}/{group} \\\n",
    "-rna -len 5,6,7 \\\n",
    "-p 20 -size 100 -S 10\n",
    "echo 'done'\n",
    "'''\n",
    "for group in ['M1','M2','M3']:#,'H1','H2','H3']:\n",
    "    genome='hg19'\n",
    "    if group.startswith('M'):\n",
    "        genome='mm10'\n",
    "    for binw in ['100','150','200']:\n",
    "        cmd_f='%s/qsub/%s_%s_clam.sh'%(script_folder,group,binw)\n",
    "        with open(cmd_f,'w') as cmd_file:\n",
    "            cmd_file.write(cmd.format(group=group,genome=genome,binw=binw,data_folder=data_folder,genome_folder=genome_folder,script_folder=script_folder))\n",
    "        print(group+'_'+binw)\n",
    "        print(subprocess.check_output('qsub -cwd -l h_vmem=80G,m_mem_free=40G %s'%cmd_f,shell=True))"
   ]
  },
  {
   "cell_type": "code",
   "execution_count": 33,
   "metadata": {},
   "outputs": [
    {
     "output_type": "stream",
     "name": "stdout",
     "text": [
      "H1_100\n",
      "b'Your job 18663093 (\"H1_100_bw.sh\") has been submitted\\n'\n",
      "H1_150\n",
      "b'Your job 18663094 (\"H1_150_bw.sh\") has been submitted\\n'\n",
      "H1_200\n",
      "b'Your job 18663095 (\"H1_200_bw.sh\") has been submitted\\n'\n",
      "H2_100\n",
      "b'Your job 18663096 (\"H2_100_bw.sh\") has been submitted\\n'\n",
      "H2_150\n",
      "b'Your job 18663097 (\"H2_150_bw.sh\") has been submitted\\n'\n",
      "H2_200\n",
      "b'Your job 18663098 (\"H2_200_bw.sh\") has been submitted\\n'\n",
      "H3_100\n",
      "b'Your job 18663099 (\"H3_100_bw.sh\") has been submitted\\n'\n",
      "H3_150\n",
      "b'Your job 18663100 (\"H3_150_bw.sh\") has been submitted\\n'\n",
      "H3_200\n",
      "b'Your job 18663101 (\"H3_200_bw.sh\") has been submitted\\n'\n"
     ]
    }
   ],
   "source": [
    "## this section should be split and merged to other sections\n",
    "cmd='''python {script_folder}/make_bw.py --ub {data_folder}/clam/{group}/unique.sorted.bam --rb \\\n",
    "    {data_folder}/clam/{group}_{binw}/realigned.sorted.bam -g {genome_folder}/raw/hg19/hg19.gtf -u -t 20 -o {data_folder}/bigwig/{binw} -s {group} -c {genome_folder}/raw/{genome}/chr_size.txt\n",
    "    python {script_folder}/mapping_stat.py {data_folder}/star/{group}/Aligned.out.bam {data_folder}/cutadapt/{group}_fastqc.zip > {data_folder}/star/{group}/mapping_stat.txt\n",
    "    '''\n",
    "for group in ['H1','H2','H3']:# , 'M1','M2','M3']:\n",
    "    genome='hg19'\n",
    "    if group.startswith('M'):\n",
    "        genome='mm10'\n",
    "    for binw in ['100','150','200']:\n",
    "        cmd_f='%s/qsub/%s_%s_bw.sh'%(script_folder,group,binw)\n",
    "        with open(cmd_f,'w') as cmd_file:\n",
    "            cmd_file.write(cmd.format(group=group,genome=genome,binw=binw,data_folder=data_folder,genome_folder=genome_folder,script_folder=script_folder))\n",
    "        print(group+'_'+binw)\n",
    "        print(subprocess.check_output('qsub -cwd -l h_vmem=80G,m_mem_free=40G %s'%cmd_f,shell=True))"
   ]
  },
  {
   "cell_type": "code",
   "execution_count": null,
   "metadata": {},
   "outputs": [],
   "source": []
  }
 ]
}